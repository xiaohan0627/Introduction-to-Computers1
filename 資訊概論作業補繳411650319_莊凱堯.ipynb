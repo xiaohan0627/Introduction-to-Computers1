{
  "nbformat": 4,
  "nbformat_minor": 0,
  "metadata": {
    "colab": {
      "provenance": [],
      "authorship_tag": "ABX9TyMnJXhVMvG+6WduMy05nCye",
      "include_colab_link": true
    },
    "kernelspec": {
      "name": "python3",
      "display_name": "Python 3"
    },
    "language_info": {
      "name": "python"
    }
  },
  "cells": [
    {
      "cell_type": "markdown",
      "metadata": {
        "id": "view-in-github",
        "colab_type": "text"
      },
      "source": [
        "<a href=\"https://colab.research.google.com/github/xiaohan0627/Introduction-to-Computers1/blob/main/%E8%B3%87%E8%A8%8A%E6%A6%82%E8%AB%96%E4%BD%9C%E6%A5%AD%E8%A3%9C%E7%B9%B3411650319_%E8%8E%8A%E5%87%B1%E5%A0%AF.ipynb\" target=\"_parent\"><img src=\"https://colab.research.google.com/assets/colab-badge.svg\" alt=\"Open In Colab\"/></a>"
      ]
    },
    {
      "cell_type": "code",
      "execution_count": 4,
      "metadata": {
        "colab": {
          "base_uri": "https://localhost:8080/"
        },
        "id": "2M1Ggn154e0s",
        "outputId": "ed30076f-bd32-4ac7-963e-03a2e04f467d"
      },
      "outputs": [
        {
          "output_type": "stream",
          "name": "stdout",
          "text": [
            "peiyu\n",
            "peiyu\n"
          ]
        }
      ],
      "source": [
        "x = input(str())\n",
        "print(x)"
      ]
    },
    {
      "cell_type": "code",
      "source": [
        "x = input(str())\n",
        "print(len(x))\n"
      ],
      "metadata": {
        "colab": {
          "base_uri": "https://localhost:8080/"
        },
        "id": "paZTyvDR41gp",
        "outputId": "4f44468e-8d23-4c50-cd9f-e2a6b22efc8d"
      },
      "execution_count": 5,
      "outputs": [
        {
          "output_type": "stream",
          "name": "stdout",
          "text": [
            "peiyu i love you !!\n",
            "19\n"
          ]
        }
      ]
    },
    {
      "cell_type": "code",
      "source": [
        "h,w= input().split()\n",
        "H = int(h)/100\n",
        "W = int(w)\n",
        "BMI = W/H**2\n",
        "print('%.2f'  %BMI)"
      ],
      "metadata": {
        "colab": {
          "base_uri": "https://localhost:8080/"
        },
        "id": "D1Ei2nZv5MlT",
        "outputId": "cc351d87-bc1f-4b92-c293-42f642432c5b"
      },
      "execution_count": 21,
      "outputs": [
        {
          "output_type": "stream",
          "name": "stdout",
          "text": [
            "170 65\n",
            "22.49\n"
          ]
        }
      ]
    },
    {
      "cell_type": "code",
      "source": [
        "n = input()\n",
        "x = int(n)\n",
        "sum = 0\n",
        "for i in range (10,x+1):\n",
        " sum+=i  \n",
        "print(sum)"
      ],
      "metadata": {
        "colab": {
          "base_uri": "https://localhost:8080/"
        },
        "id": "qRTwOnvk7nJ-",
        "outputId": "e66907ec-17b6-47eb-8503-9ca7043f30ff"
      },
      "execution_count": 42,
      "outputs": [
        {
          "output_type": "stream",
          "name": "stdout",
          "text": [
            "20\n",
            "165\n"
          ]
        }
      ]
    },
    {
      "cell_type": "code",
      "source": [
        "name = input(str())\n",
        "print(name)"
      ],
      "metadata": {
        "colab": {
          "base_uri": "https://localhost:8080/"
        },
        "id": "PXOv4yoj9YOn",
        "outputId": "f4835c30-8a7d-4bb7-ec8b-f04444522d0e"
      },
      "execution_count": 45,
      "outputs": [
        {
          "output_type": "stream",
          "name": "stdout",
          "text": [
            "asdasd\n",
            "asdasd\n"
          ]
        }
      ]
    },
    {
      "cell_type": "code",
      "source": [
        "sum = 0\n",
        "n = input()\n",
        "x = int(n)\n",
        "for i in range (1,x+1,1):\n",
        "  sum+=i\n",
        "print(sum)\n"
      ],
      "metadata": {
        "colab": {
          "base_uri": "https://localhost:8080/"
        },
        "id": "wKVBTTI-9xRy",
        "outputId": "661e711a-0ae1-4dd5-dc04-18453b2ae162"
      },
      "execution_count": 46,
      "outputs": [
        {
          "output_type": "stream",
          "name": "stdout",
          "text": [
            "100\n",
            "5050\n"
          ]
        }
      ]
    }
  ]
}